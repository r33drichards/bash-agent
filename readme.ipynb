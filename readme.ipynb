{
 "cells": [
  {
   "cell_type": "markdown",
   "metadata": {},
   "source": [
    "# an agent that resolves merge conflicts automatically\n",
    "\n",
    "- \n"
   ]
  },
  {
   "cell_type": "markdown",
   "metadata": {
    "vscode": {
     "languageId": "plaintext"
    }
   },
   "source": [
    "to intentionally create a merge conflict, commit a file with the following contents: foo: foo. Commit. Branch off this commit and change one of the foo's to bar, foo: bar And branch of to another from your first branch and change the same line to foo: baz.\n",
    "\n",
    "Now merge one back into your starting branch and then the other.\n",
    "\n",
    "```sh\n",
    "\n",
    "```"
   ]
  },
  {
   "cell_type": "code",
   "execution_count": null,
   "metadata": {
    "vscode": {
     "languageId": "shellscript"
    }
   },
   "outputs": [
    {
     "ename": "",
     "evalue": "",
     "output_type": "error",
     "traceback": [
      "\u001b[1;31mRunning cells with '.venv (Python 3.12.10)' requires the ipykernel package.\n",
      "\u001b[1;31mRun the following command to install 'ipykernel' into the Python environment. \n",
      "\u001b[1;31mCommand: '/Users/robertwendt/merge-conflict/.venv/bin/python -m pip install ipykernel -U --force-reinstall'"
     ]
    }
   ],
   "source": [
    "#! /bin/bash\n",
    "# delete all existing branches if they exist \n",
    "git branch -D test-root\n",
    "git branch -D test-branch\n",
    "git branch -D test-branch2\n",
    "\n",
    "\n",
    "# create the root commit\n",
    "git switch -c test-root\n",
    "echo \"foo\" > foo\n",
    "git add foo\n",
    "git commit -m \"foo\"\n",
    "\n",
    "git switch -c test-branch\n",
    "echo \"bar\" > foo\n",
    "git add foo\n",
    "git commit -m \"bar\"\n",
    "\n",
    "# create test-branch2 from test-root\n",
    "git checkout test-root\n",
    "git switch -c test-branch2\n",
    "echo \"baz\" > foo\n",
    "git add foo\n",
    "git commit -m \"baz\"\n",
    "\n",
    "git switch test-root\n",
    "git merge test-branch\n",
    "git merge test-branch2\n"
   ]
  },
  {
   "cell_type": "code",
   "execution_count": null,
   "metadata": {},
   "outputs": [],
   "source": []
  }
 ],
 "metadata": {
  "kernelspec": {
   "display_name": ".venv",
   "language": "python",
   "name": "python3"
  },
  "language_info": {
   "name": "python",
   "version": "3.12.10"
  }
 },
 "nbformat": 4,
 "nbformat_minor": 2
}
