{
 "cells": [
  {
   "cell_type": "markdown",
   "metadata": {},
   "source": [
    "# an agent that resolves merge conflicts automatically\n"
   ]
  },
  {
   "cell_type": "markdown",
   "metadata": {
    "vscode": {
     "languageId": "plaintext"
    }
   },
   "source": [
    "to intentionally create a merge conflict, commit a file with the following contents: foo: foo. Commit. Branch off this commit and change one of the foo's to bar, foo: bar And branch of to another from your first branch and change the same line to foo: baz.\n",
    "\n",
    "Now merge one back into your starting branch and then the other.\n",
    "\n"
   ]
  },
  {
   "cell_type": "markdown",
   "metadata": {
    "vscode": {
     "languageId": "shellscript"
    }
   },
   "source": [
    "```sh\n",
    "#! /bin/bash\n",
    "# delete all existing branches if they exist \n",
    "git branch -D test-root\n",
    "git branch -D test-branch\n",
    "git branch -D test-branch2\n",
    "\n",
    "\n",
    "# create the root commit\n",
    "git switch -c test-root\n",
    "echo \"foo\" > foo\n",
    "git add foo\n",
    "git commit -m \"foo\"\n",
    "\n",
    "git switch -c test-branch\n",
    "echo \"bar\" > foo\n",
    "git add foo\n",
    "git commit -m \"bar\"\n",
    "\n",
    "# create test-branch2 from test-root\n",
    "git checkout test-root\n",
    "git switch -c test-branch2\n",
    "echo \"baz\" > foo\n",
    "git add foo\n",
    "git commit -m \"baz\"\n",
    "\n",
    "git switch test-root\n",
    "git merge test-branch\n",
    "git merge test-branch2\n",
    "```"
   ]
  },
  {
   "cell_type": "markdown",
   "metadata": {
    "vscode": {
     "languageId": "raw"
    }
   },
   "source": [
    "```\n",
    "➜  merge-conflict git:(test-root) ✗ git status                                                                      ~/merge-conflict\n",
    "On branch test-root\n",
    "You have unmerged paths.\n",
    "  (fix conflicts and run \"git commit\")\n",
    "  (use \"git merge --abort\" to abort the merge)\n",
    "\n",
    "Unmerged paths:\n",
    "  (use \"git add <file>...\" to mark resolution)\n",
    "        both modified:   foo\n",
    "\n",
    "Changes not staged for commit:\n",
    "  (use \"git add <file>...\n",
    "\n",
    "no changes added to commit (use \"git add\" and/or \"git commit -a\")\n",
    "➜  merge-conflict git:(test-root) ✗      \n",
    "```"
   ]
  },
  {
   "cell_type": "markdown",
   "metadata": {},
   "source": [
    "to view the diff of the un merged path, run:"
   ]
  },
  {
   "cell_type": "markdown",
   "metadata": {},
   "source": [
    "to view the diff of the un merged path, run:"
   ]
  },
  {
   "cell_type": "markdown",
   "metadata": {},
   "source": [
    "```sh\n",
    "?➜  merge-conflict git:(test-root) ?✗ git diff | cat\n",
    "diff --cc foo\n",
    "index 5716ca5,7601807..0000000\n",
    "--- a/foo\n",
    "+++ b/foo\n",
    "@@@ -1,1 -1,1 +1,5 @@@\n",
    "++<<<<<<< HEAD\n",
    " +bar\n",
    "++=======\n",
    "+ baz\n",
    "++>>>>>>> test-branch2\n",
    "... other changes \n",
    "```"
   ]
  },
  {
   "cell_type": "markdown",
   "metadata": {},
   "source": [
    "You will now create a .patch file and update the contents of foo using this patch to solve the merge conflict, and then delete your patch file to tidy up"
   ]
  },
  {
   "cell_type": "markdown",
   "metadata": {},
   "source": []
  }
 ],
 "metadata": {
  "kernelspec": {
   "display_name": "Python 3",
   "language": "python",
   "name": "python3"
  },
  "language_info": {
   "codemirror_mode": {
    "name": "ipython",
    "version": 3
   },
   "file_extension": ".py",
   "mimetype": "text/x-python",
   "name": "python",
   "nbconvert_exporter": "python",
   "pygments_lexer": "ipython3",
   "version": "3.12.10"
  }
 },
 "nbformat": 4,
 "nbformat_minor": 2
}
