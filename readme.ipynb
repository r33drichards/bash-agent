{
 "cells": [
  {
   "cell_type": "markdown",
   "metadata": {},
   "source": [
    "# an agent that resolves merge conflicts automatically\n",
    "\n",
    "- \n"
   ]
  },
  {
   "cell_type": "markdown",
   "metadata": {
    "vscode": {
     "languageId": "plaintext"
    }
   },
   "source": [
    "to intentionally create a merge conflict, commit a file with the following contents: foo: foo. Commit. Branch off this commit and change one of the foo's to bar, foo: bar And branch of to another from your first branch and change the same line to foo: baz.\n",
    "\n",
    "Now merge one back into your starting branch and then the other.\n",
    "\n",
    "```sh\n",
    "\n",
    "```"
   ]
  },
  {
   "cell_type": "code",
   "execution_count": null,
   "metadata": {
    "vscode": {
     "languageId": "shellscript"
    }
   },
   "outputs": [],
   "source": [
    "#! /bin/bash\n",
    "# delete all existing branches if they exist \n",
    "git branch -D test-root\n",
    "git branch -D test-branch\n",
    "git branch -D test-branch2\n",
    "\n",
    "# create the root commit\n",
    "git switch -c test-root\n",
    "echo \"foo\" > foo\n",
    "git add foo\n",
    "git commit -m \"foo\"\n",
    "\n",
    "git switch -c test-branch\n",
    "echo \"bar\" > foo\n",
    "git add foo\n",
    "git commit -m \"bar\"\n",
    "\n",
    "# create test-branch2 from test-root\n",
    "git checkout test-root\n",
    "git switch -c test-branch2\n",
    "echo \"baz\" > foo\n",
    "git add foo\n",
    "git commit -m \"baz\"\n",
    "\n",
    "git switch test-root\n",
    "git merge test-branch\n",
    "git merge test-branch2\n"
   ]
  },
  {
   "cell_type": "code",
   "execution_count": null,
   "metadata": {
    "vscode": {
     "languageId": "plaintext"
    }
   },
   "outputs": [],
   "source": []
  }
 ],
 "metadata": {
  "language_info": {
   "name": "python"
  }
 },
 "nbformat": 4,
 "nbformat_minor": 2
}
